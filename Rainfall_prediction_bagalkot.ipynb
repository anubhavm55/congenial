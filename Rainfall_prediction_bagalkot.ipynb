{
 "cells": [
  {
   "cell_type": "code",
   "execution_count": 79,
   "metadata": {},
   "outputs": [],
   "source": [
    "import csv\n",
    "from numpy import *\n",
    "from scipy.interpolate import *\n",
    "from matplotlib.pyplot import *\n",
    "from scipy.stats import *\n",
    "%matplotlib inline\n",
    "import pandas as pd"
   ]
  },
  {
   "cell_type": "code",
   "execution_count": 80,
   "metadata": {},
   "outputs": [],
   "source": [
    "set_printoptions(threshold= sys.maxsize)\n"
   ]
  },
  {
   "cell_type": "code",
   "execution_count": 81,
   "metadata": {},
   "outputs": [],
   "source": [
    "f_path = '/Users/mayankchourasia/Desktop/crop_yield/bagalkot_rain.csv'\n",
    "file = open(f_path)# opening the learning data\n",
    "reader = csv.reader(file)# creating a reader\n",
    "flag = 0# for avoiding the headers in csv file from including in arrays\n",
    "dataRain = array([])# stores the annual rain data\n",
    "dataYear = array([])# correspnding year\n",
    "for i in reader:\n",
    "    if flag == 0:\n",
    "        flag = 1\n",
    "        continue\n",
    "    elif flag == 1:\n",
    "        startYearOfTestDataTrain = int(i[0])\n",
    "        flag = 2\n",
    "    dataYear = append(dataYear,int(i[0]))#taking years\n",
    "    dataRain = append(dataRain,float(i[1]))"
   ]
  },
  {
   "cell_type": "code",
   "execution_count": 82,
   "metadata": {},
   "outputs": [],
   "source": [
    "for i in reader:\n",
    "    if flag == 0:\n",
    "        flag = 1\n",
    "        continue\n",
    "    elif flag == 1:\n",
    "        startYearOfTestDataTrain = int(i[0])\n",
    "        flag = 2\n",
    "    dataYear = append(dataYear,int(i[0]))#taking years\n",
    "    dataRain = append(dataRain,float(i[1]))"
   ]
  },
  {
   "cell_type": "code",
   "execution_count": 83,
   "metadata": {},
   "outputs": [
    {
     "name": "stdout",
     "output_type": "stream",
     "text": [
      "yerrs to plot :  19 \tStart year :  1901\n",
      "data to plot :  [ 539.089  739.757  545.268  574.574  616.002  713.176  572.121  658.608\n",
      "  789.875  732.906  748.284  803.945 1171.418]\n"
     ]
    }
   ],
   "source": [
    "year = (1920 - startYearOfTestDataTrain)\n",
    "print(\"yerrs to plot : \", year, \"\\tStart year : \", startYearOfTestDataTrain)\n",
    "print(\"data to plot : \", dataRain[year:year+13])\n",
    "p1 = polyfit(dataYear,dataRain,2)"
   ]
  },
  {
   "cell_type": "code",
   "execution_count": 84,
   "metadata": {},
   "outputs": [
    {
     "data": {
      "image/png": "[encoded data removed]",
      "text/plain": [
       "<Figure size 432x288 with 1 Axes>"
      ]
     },
     "metadata": {
      "needs_background": "light"
     },
     "output_type": "display_data"
    },
    {
     "name": "stdout",
     "output_type": "stream",
     "text": [
      "Start year of test data :  1901\n"
     ]
    }
   ],
   "source": [
    "plot(dataYear[year:year+13],dataRain[year:year+13],'o')# plotting the actual rain data on graph as blue dots\n",
    "plot(dataYear[year:year+13],polyval(p1,dataYear[year:year+13]),'r-')# drawing a curve formed by polynomial\n",
    "xlabel(\"Years\"+str(year+startYearOfTestDataTrain))\n",
    "ylabel(\"RainFall\")\n",
    "title(\"Prototype1\")\n",
    "#print(dataYear[year],dataRain[year],polyval(p1,dataYear[year]),sep = \" \")\n",
    "show()\n",
    "\n",
    "\n",
    "file.close()\n",
    "\n",
    "testDataYear = array([])# stores the test data years\n",
    "testDataRain = array([])# stores the test data rain\n",
    "file = open(f_path)\n",
    "reader = csv.reader(file)\n",
    "flag1 = 0\n",
    "for i in reader:\n",
    "    if flag1 == 0:\n",
    "        flag1 = 1\n",
    "        continue\n",
    "    elif flag1 == 1:\n",
    "        startYearOfTestData = int(i[0])\n",
    "        flag1 = 2\n",
    "    testDataYear = append(testDataYear,int(i[0]))\n",
    "    testDataRain = append(testDataRain,float(i[1]))\n",
    "file.close()\n",
    "print(\"Start year of test data : \",startYearOfTestData)"
   ]
  },
  {
   "cell_type": "code",
   "execution_count": 85,
   "metadata": {},
   "outputs": [
    {
     "name": "stdout",
     "output_type": "stream",
     "text": [
      "\n",
      "\n",
      "weights of model_fitted ===> \n",
      "\n",
      " [-3.22478817e-02  1.27600267e+02 -1.25362591e+05] \n",
      "\n",
      "\n",
      "Year\t\tActual Rain\t\tPredicted Rain\n",
      "--------------------------------------------------------------------\n",
      "1901 \t\t 707.369 \t\t 668.090195939687\n",
      "1902 \t\t 656.829 \t\t 673.0517691794375\n",
      "1903 \t\t 993.264 \t\t 677.9488466557668\n",
      "1904 \t\t 555.423 \t\t 682.7814283687476\n",
      "1905 \t\t 494.907 \t\t 687.5495143183216\n",
      "1906 \t\t 911.206 \t\t 692.2531045045034\n",
      "1907 \t\t 678.154 \t\t 696.8921989273076\n",
      "1908 \t\t 543.776 \t\t 701.4667975867051\n",
      "1909 \t\t 672.649 \t\t 705.976900482754\n",
      "1910 \t\t 886.985 \t\t 710.4225076153962\n",
      "1911 \t\t 683.514 \t\t 714.8036189846316\n",
      "1912 \t\t 648.611 \t\t 719.1202345905185\n",
      "1913 \t\t 746.667 \t\t 723.3723544329841\n",
      "1914 \t\t 846.487 \t\t 727.5599785120867\n",
      "1915 \t\t 949.066 \t\t 731.6831068278116\n",
      "1916 \t\t 1074.779 \t\t 735.7417393801152\n",
      "1917 \t\t 921.571 \t\t 739.7358761690557\n",
      "1918 \t\t 452.562 \t\t 743.6655171945895\n",
      "1919 \t\t 720.292 \t\t 747.5306624567602\n",
      "1920 \t\t 539.089 \t\t 751.3313119555387\n",
      "1921 \t\t 739.757 \t\t 755.0674656909105\n",
      "1922 \t\t 545.268 \t\t 758.7391236629337\n",
      "1923 \t\t 574.574 \t\t 762.3462858715211\n",
      "1924 \t\t 616.002 \t\t 765.88895231676\n",
      "1925 \t\t 713.176 \t\t 769.3671229985921\n",
      "1926 \t\t 572.121 \t\t 772.7807979170466\n",
      "1927 \t\t 658.608 \t\t 776.129977072138\n",
      "1928 \t\t 789.875 \t\t 779.4146604637936\n",
      "1929 \t\t 732.906 \t\t 782.6348480921006\n",
      "1930 \t\t 748.284 \t\t 785.7905399569863\n",
      "1931 \t\t 803.945 \t\t 788.8817360585235\n",
      "1932 \t\t 1171.418 \t\t 791.9084363966685\n",
      "1933 \t\t 1176.805 \t\t 794.8706409714068\n",
      "1934 \t\t 890.275 \t\t 797.7683497827675\n",
      "1935 \t\t 833.621 \t\t 800.6015628307359\n",
      "1936 \t\t 514.425 \t\t 803.3702801153268\n",
      "1937 \t\t 528.325 \t\t 806.0745016365399\n",
      "1938 \t\t 839.525 \t\t 808.7142273943318\n",
      "1939 \t\t 733.476 \t\t 811.2894573887752\n",
      "1940 \t\t 691.826 \t\t 813.8001916197973\n",
      "1941 \t\t 652.263 \t\t 816.2464300874708\n",
      "1942 \t\t 646.585 \t\t 818.6281727917521\n",
      "1943 \t\t 939.126 \t\t 820.9454197326122\n",
      "1944 \t\t 774.132 \t\t 823.1981709101092\n",
      "1945 \t\t 541.807 \t\t 825.3864263241994\n",
      "1946 \t\t 967.446 \t\t 827.5101859749411\n",
      "1947 \t\t 771.872 \t\t 829.5694498622761\n",
      "1948 \t\t 769.836 \t\t 831.5642179862189\n",
      "1949 \t\t 731.794 \t\t 833.494490346784\n",
      "1950 \t\t 785.708 \t\t 835.3602669439424\n",
      "1951 \t\t 818.351 \t\t 837.1615477777377\n",
      "1952 \t\t 646.829 \t\t 838.8983328481554\n",
      "1953 \t\t 998.734 \t\t 840.5706221551518\n",
      "1954 \t\t 900.36 \t\t 842.1784156987851\n",
      "1955 \t\t 945.039 \t\t 843.7217134790117\n",
      "1956 \t\t 1414.17 \t\t 845.2005154958752\n",
      "1957 \t\t 1070.525 \t\t 846.614821749361\n",
      "1958 \t\t 1008.341 \t\t 847.9646322394256\n",
      "1959 \t\t 866.128 \t\t 849.249946966127\n",
      "1960 \t\t 692.738 \t\t 850.4707659294218\n",
      "1961 \t\t 997.647 \t\t 851.6270891293534\n",
      "1962 \t\t 981.205 \t\t 852.7189165658929\n",
      "1963 \t\t 955.478 \t\t 853.7462482390256\n",
      "1964 \t\t 1389.239 \t\t 854.7090841487952\n",
      "1965 \t\t 672.731 \t\t 855.6074242951581\n",
      "1966 \t\t 876.714 \t\t 856.4412686781579\n",
      "1967 \t\t 907.677 \t\t 857.2106172977656\n",
      "1968 \t\t 924.787 \t\t 857.9154701539665\n",
      "1969 \t\t 906.486 \t\t 858.5558272468043\n",
      "1970 \t\t 837.454 \t\t 859.1316885762208\n",
      "1971 \t\t 841.561 \t\t 859.6430541422887\n",
      "1972 \t\t 443.878 \t\t 860.0899239449645\n",
      "1973 \t\t 1008.973 \t\t 860.4722979842336\n",
      "1974 \t\t 993.736 \t\t 860.7901762601396\n",
      "1975 \t\t 1101.211 \t\t 861.0435587726242\n",
      "1976 \t\t 620.826 \t\t 861.2324455217604\n",
      "1977 \t\t 1021.8 \t\t 861.3568365075043\n",
      "1978 \t\t 1079.47 \t\t 861.4167317298416\n",
      "1979 \t\t 784.985 \t\t 861.4121311888011\n",
      "1980 \t\t 731.522 \t\t 861.3430348843685\n",
      "1981 \t\t 916.391 \t\t 861.2094428165583\n",
      "1982 \t\t 920.06 \t\t 861.0113549853704\n",
      "1983 \t\t 836.112 \t\t 860.7487713907758\n",
      "1984 \t\t 723.428 \t\t 860.4216920328035\n",
      "1985 \t\t 577.649 \t\t 860.0301169114391\n",
      "1986 \t\t 607.498 \t\t 859.574046026697\n",
      "1987 \t\t 724.135 \t\t 859.0534793785773\n",
      "1988 \t\t 914.743 \t\t 858.4684169670363\n",
      "1989 \t\t 743.915 \t\t 857.8188587921468\n",
      "1990 \t\t 750.282 \t\t 857.104804853836\n",
      "1991 \t\t 884.167 \t\t 856.326255152162\n",
      "1992 \t\t 954.16 \t\t 855.4832096871105\n",
      "1993 \t\t 808.459 \t\t 854.5756684586377\n",
      "1994 \t\t 1017.934 \t\t 853.6036314668163\n",
      "1995 \t\t 833.713 \t\t 852.5670987115736\n",
      "1996 \t\t 845.678 \t\t 851.4660701929679\n",
      "1997 \t\t 880.061 \t\t 850.3005459109845\n",
      "1998 \t\t 815.087 \t\t 849.0705258655798\n",
      "1999 \t\t 768.995 \t\t 847.7760100568121\n",
      "2000 \t\t 857.558 \t\t 846.4169984846376\n",
      "2001 \t\t 607.528 \t\t 844.9934911491146\n",
      "2002 \t\t 632.97 \t\t 843.5054880501848\n",
      "2003 \t\t 837.454 \t\t 841.9529891878483\n",
      "2004 \t\t 841.561 \t\t 840.3359945621487\n",
      "2005 \t\t 443.878 \t\t 838.6545041730424\n",
      "2006 \t\t 1008.973 \t\t 836.908518020573\n",
      "2007 \t\t 993.736 \t\t 835.0980361046968\n",
      "2008 \t\t 1101.211 \t\t 833.2230584254576\n",
      "2009 \t\t 620.826 \t\t 831.2835849828261\n",
      "2010 \t\t 1021.8 \t\t 829.2796157767734\n",
      "2011 \t\t 1079.47 \t\t 827.2111508073722\n",
      "2012 \t\t 784.985 \t\t 825.0781900745642\n",
      "2013 \t\t 731.522 \t\t 822.8807335783931\n",
      "2014 \t\t 916.391 \t\t 820.6187813188299\n",
      "2015 \t\t 920.06 \t\t 818.2923332958453\n",
      "2016 \t\t 836.112 \t\t 815.9013895095122\n",
      "2017 \t\t 723.428 \t\t 813.4459499597724\n"
     ]
    },
    {
     "data": {
      "image/png": "[encoded data removed]",
      "text/plain": [
       "<Figure size 432x288 with 1 Axes>"
      ]
     },
     "metadata": {
      "needs_background": "light"
     },
     "output_type": "display_data"
    }
   ],
   "source": [
    "predictedData = p1[0] * testDataYear**2 + p1[1] * testDataYear + p1[2]# stores the predicted rain data\n",
    "#predictedData = p1[0] * testDataYear**3 + p1[1] * testDataYear**2 + p1[2] * testDataYear + p1[3]\n",
    "print(\"\\n\\nweights of model_fitted ===> \")\n",
    "print('\\n',p1,'\\n\\n')\n",
    "print(\"Year\"+\"\\t\\t\"+\"Actual Rain\"+\"\\t\\t\"+\"Predicted Rain\")\n",
    "print(\"--------------------------------------------------------------------\")\n",
    "\n",
    "#for i in range(testDataYear.size):\n",
    "    #print(testDataYear[i],\"\\t\",testDataRain[i],\"\\t\",predictedData[i])\n",
    "year = (2002 - startYearOfTestData)\n",
    "temp = startYearOfTestData\n",
    "i = 0\n",
    "#print(predictedData[year:year+13])\n",
    "while i < int(testDataRain.size):\n",
    "    if predictedData[i]<0:\n",
    "        predictedData[i] = 0\n",
    "    print(startYearOfTestData,\"\\t\\t\",testDataRain[i],\"\\t\\t\",predictedData[i])\n",
    "    i+=1\n",
    "    startYearOfTestData+=1\n",
    "\n",
    "plot(testDataYear[year:year+13],testDataRain[year:year+13],'r--')# actual curve\n",
    "plot(testDataYear[year:year+13],predictedData[year:year+13],\"b--\")# predicted curve\n",
    "xlabel(\"Years\"+str(year+temp))\n",
    "ylabel(\"RainFall\")\n",
    "title(\"Prototype1\")\n",
    "show()\n",
    "#  ----------:::::::::::>>>>>\n",
    "rainfit = p1[0] * dataYear**2 + p1[1] * dataYear + p1[2]"
   ]
  },
  {
   "cell_type": "code",
   "execution_count": 86,
   "metadata": {},
   "outputs": [
    {
     "name": "stdout",
     "output_type": "stream",
     "text": [
      "0.08586957705010434\n"
     ]
    }
   ],
   "source": [
    "yresid = rainfit - dataRain\n",
    "SSresid = sum(pow(yresid,2))\n",
    "SStotal = len(dataRain)*var(dataRain)\n",
    "rsq = 1- SSresid/SStotal\n",
    "print(rsq)"
   ]
  },
  {
   "cell_type": "code",
   "execution_count": 87,
   "metadata": {},
   "outputs": [],
   "source": [
    "\n",
    "def save_model(array, name):\n",
    "    np.savetxt(name+\".csv\", array, delimiter=\",\")"
   ]
  },
  {
   "cell_type": "code",
   "execution_count": 88,
   "metadata": {},
   "outputs": [],
   "source": [
    "\n",
    "def load_model(name):\n",
    "    with open(name+\".csv\", 'r') as read_file:\n",
    "        reader = csv.reader(read_file)\n",
    "        data = []\n",
    "        for row in reader:\n",
    "            data.append(row[0])\n",
    "    read_file.close()\n",
    "    data = np.asarray(data, dtype=np.float64)\n",
    "    return data"
   ]
  },
  {
   "cell_type": "code",
   "execution_count": 89,
   "metadata": {},
   "outputs": [],
   "source": [
    "def _predict_rain(model, year):\n",
    "    x = year\n",
    "    eq_sum = 0\n",
    "    for j in range(0, model.shape[0]):\n",
    "        eq_sum += (model[j] * (x**(model.shape[0]-j-1)))\n",
    "    if eq_sum < 0:\n",
    "        eq_sum = 0\n",
    "    print(eq_sum)\n",
    "    return eq_sum"
   ]
  },
  {
   "cell_type": "code",
   "execution_count": 90,
   "metadata": {},
   "outputs": [],
   "source": [
    "save_model(p1, 'bagalkot_rain')\n"
   ]
  },
  {
   "cell_type": "code",
   "execution_count": 91,
   "metadata": {},
   "outputs": [
    {
     "data": {
      "text/plain": [
       "array([-3.22478817e-02,  1.27600267e+02, -1.25362591e+05])"
      ]
     },
     "execution_count": 91,
     "metadata": {},
     "output_type": "execute_result"
    }
   ],
   "source": [
    "model = load_model('bagalkot_rain')\n",
    "model"
   ]
  },
  {
   "cell_type": "code",
   "execution_count": 92,
   "metadata": {},
   "outputs": [
    {
     "name": "stdout",
     "output_type": "stream",
     "text": [
      "805.6926567302435\n"
     ]
    },
    {
     "data": {
      "text/plain": [
       "805.6926567302435"
      ]
     },
     "execution_count": 92,
     "metadata": {},
     "output_type": "execute_result"
    }
   ],
   "source": [
    "_predict_rain(model, 2020)\n"
   ]
  },
  {
   "cell_type": "code",
   "execution_count": null,
   "metadata": {},
   "outputs": [],
   "source": [
    "\n"
   ]
  },
  {
   "cell_type": "code",
   "execution_count": null,
   "metadata": {},
   "outputs": [],
   "source": []
  },
  {
   "cell_type": "code",
   "execution_count": null,
   "metadata": {},
   "outputs": [],
   "source": []
  },
  {
   "cell_type": "code",
   "execution_count": null,
   "metadata": {},
   "outputs": [],
   "source": []
  }
 ],
 "metadata": {
  "kernelspec": {
   "display_name": "Python 3",
   "language": "python",
   "name": "python3"
  },
  "language_info": {
   "codemirror_mode": {
    "name": "ipython",
    "version": 3
   },
   "file_extension": ".py",
   "mimetype": "text/x-python",
   "name": "python",
   "nbconvert_exporter": "python",
   "pygments_lexer": "ipython3",
   "version": "3.7.4"
  }
 },
 "nbformat": 4,
 "nbformat_minor": 2
}
